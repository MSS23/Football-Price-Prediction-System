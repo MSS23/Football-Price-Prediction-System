{
 "cells": [
  {
   "cell_type": "markdown",
   "metadata": {
    "id": "GsHnnj9jXEwb"
   },
   "source": [
    "# This is the file whereby the data to transfermarkt is being scraped"
   ]
  },
  {
   "cell_type": "code",
   "execution_count": null,
   "metadata": {
    "colab": {
     "base_uri": "https://localhost:8080/"
    },
    "id": "sOBYwM_JmL_P",
    "outputId": "79bb5307-1646-4123-a1cf-6139fe78e1c1"
   },
   "outputs": [],
   "source": [
    "!pip install unidecode\n",
    "!pip install shap\n",
    "!pip3 install catboost\n",
    "!pip insert\n",
    "from keras.models import *\n",
    "from unidecode import unidecode\n",
    "import time\n",
    "import numpy as np\n",
    "import pandas as pd\n",
    "import os\n",
    "import sklearn\n",
    "from sklearn import datasets\n",
    "from urllib.error import URLError\n",
    "from tensorflow.keras.layers import Dense\n",
    "import pickle\n",
    "from pathlib import Path\n",
    "import matplotlib.pyplot as plt\n",
    "import seaborn as sns\n",
    "from keras.applications.xception import Xception \n",
    "import tensorflow as tf\n",
    "import shap\n",
    "from sklearn.inspection import permutation_importance\n",
    "from sklearn.ensemble import RandomForestClassifier\n",
    "from sklearn.naive_bayes import MultinomialNB\n",
    "from sklearn.linear_model import SGDClassifier\n",
    "from sklearn.linear_model import LogisticRegression\n",
    "from sklearn.multiclass import OneVsRestClassifier\n",
    "from sklearn.svm import LinearSVC\n",
    "from sklearn.svm import SVC\n",
    "from sklearn.linear_model import Perceptron\n",
    "from sklearn.linear_model import PassiveAggressiveClassifier\n",
    "from sklearn.neural_network import MLPClassifier\n",
    "from sklearn import preprocessing\n",
    "from sklearn.linear_model import LinearRegression\n",
    "import numpy as np\n",
    "import matplotlib.pyplot as plt\n",
    "import pandas as pd\n",
    "from sklearn.ensemble import RandomForestRegressor\n",
    "from sklearn.model_selection import train_test_split\n",
    "from xgboost import XGBRegressor\n",
    "from sklearn.preprocessing import StandardScaler\n",
    "from sklearn.metrics import classification_report\n",
    "from shap.plots import *\n",
    "import keras"
   ]
  },
  {
   "cell_type": "code",
   "execution_count": null,
   "metadata": {
    "colab": {
     "base_uri": "https://localhost:8080/"
    },
    "id": "hFZoK0qRo_3b",
    "outputId": "8f2fbcfb-5627-4e89-824d-b481c36f19bd"
   },
   "outputs": [],
   "source": [
    "!pip install wandb -qqq\n",
    "import wandb\n",
    "# Log in to your W&B account\n",
    "wandb.login()"
   ]
  },
  {
   "cell_type": "markdown",
   "metadata": {
    "id": "dleZqbjywsca"
   },
   "source": [
    "# Mount the drive holding the dataset"
   ]
  },
  {
   "cell_type": "code",
   "execution_count": null,
   "metadata": {
    "colab": {
     "base_uri": "https://localhost:8080/"
    },
    "id": "XZbXJYtBmU7C",
    "outputId": "805a4e6c-ef92-4b96-c61c-233791aec74f"
   },
   "outputs": [],
   "source": [
    "from google.colab import drive\n",
    "drive.mount('/content/drive/', force_remount=True)\n"
   ]
  },
  {
   "cell_type": "code",
   "execution_count": null,
   "metadata": {
    "id": "6_hhXSDsJO1A"
   },
   "outputs": [],
   "source": [
    "dataset_path = '/content/drive/MyDrive/FYPDataset'\n",
    "dataset_filename = '/footballData.csv'\n",
    "dataframe_fifa = pd.read_csv(dataset_path + dataset_filename)"
   ]
  },
  {
   "cell_type": "code",
   "execution_count": null,
   "metadata": {
    "colab": {
     "base_uri": "https://localhost:8080/",
     "height": 800
    },
    "id": "_E3yRrYAJiS2",
    "outputId": "d9ef647c-f138-42dc-b164-f9962d1dc8ca"
   },
   "outputs": [],
   "source": [
    "dataframe_fifa"
   ]
  },
  {
   "cell_type": "code",
   "execution_count": null,
   "metadata": {
    "id": "rF9nWN9EoTFQ"
   },
   "outputs": [],
   "source": [
    "dataframe_fifa['Index Of Player Found'] = dataframe_fifa.index"
   ]
  },
  {
   "cell_type": "code",
   "execution_count": null,
   "metadata": {
    "colab": {
     "base_uri": "https://localhost:8080/"
    },
    "id": "azK8WL2TkmfL",
    "outputId": "ba7a7a44-5bd3-41c9-f5bf-2341e1fdf439"
   },
   "outputs": [],
   "source": [
    "dataframe_fifa.columns"
   ]
  },
  {
   "cell_type": "code",
   "execution_count": null,
   "metadata": {
    "colab": {
     "base_uri": "https://localhost:8080/",
     "height": 261
    },
    "id": "6_PkFeutKWTA",
    "outputId": "c3ffa1e7-661c-4c8b-8473-affe4074e12d"
   },
   "outputs": [],
   "source": [
    "dataframe_fifa.loc[dataframe_fifa['short_name'] == 'Pedri']"
   ]
  },
  {
   "cell_type": "code",
   "execution_count": null,
   "metadata": {
    "colab": {
     "base_uri": "https://localhost:8080/"
    },
    "id": "S7d0FjBh3rl5",
    "outputId": "021e944d-6aff-4d96-81ed-9ed3450a539d"
   },
   "outputs": [],
   "source": [
    "shortNamesListFifa = dataframe_fifa['short_name'].tolist()\n",
    "len(shortNamesListFifa)"
   ]
  },
  {
   "cell_type": "code",
   "execution_count": null,
   "metadata": {
    "colab": {
     "base_uri": "https://localhost:8080/"
    },
    "id": "Q8x_iCiH319J",
    "outputId": "8d61215a-5203-41ee-b1e4-1507c7808aa5"
   },
   "outputs": [],
   "source": [
    "longNamesListFifa = dataframe_fifa['long_name'].tolist()\n",
    "len(longNamesListFifa)"
   ]
  },
  {
   "cell_type": "code",
   "execution_count": null,
   "metadata": {
    "id": "Eab0o3WbvdJg"
   },
   "outputs": [],
   "source": [
    "def removeAccentsFromString(list_of_players):\n",
    "  names_cleaned = []\n",
    "  for i in range(len(list_of_players)):\n",
    "    nameWithoutAccents = unidecode(list_of_players[i])\n",
    "    names_cleaned.append(nameWithoutAccents)\n",
    "  return names_cleaned"
   ]
  },
  {
   "cell_type": "code",
   "execution_count": null,
   "metadata": {
    "id": "0i0IF4xt4TFt"
   },
   "outputs": [],
   "source": [
    "shortNamesCleaned = removeAccentsFromString(shortNamesListFifa)\n",
    "longNamesCleaned = removeAccentsFromString(longNamesListFifa)"
   ]
  },
  {
   "cell_type": "code",
   "execution_count": null,
   "metadata": {
    "colab": {
     "base_uri": "https://localhost:8080/"
    },
    "id": "p_MD44vO12GW",
    "outputId": "3e1455b6-c5ce-4cd8-ccf7-f22d26cd51cb"
   },
   "outputs": [],
   "source": [
    "len(shortNamesCleaned)"
   ]
  },
  {
   "cell_type": "code",
   "execution_count": null,
   "metadata": {
    "colab": {
     "base_uri": "https://localhost:8080/"
    },
    "id": "kuB4Tc4V15cS",
    "outputId": "db1f3ce9-0c2d-4d4c-d1cf-c86726707991"
   },
   "outputs": [],
   "source": [
    "len(longNamesCleaned)"
   ]
  },
  {
   "cell_type": "code",
   "execution_count": null,
   "metadata": {
    "id": "PbNke22g5Dp6"
   },
   "outputs": [],
   "source": [
    "dataframe_fifa.insert(0, \"shortNamesCleaned\", shortNamesCleaned)  \n",
    "dataframe_fifa.insert(1, \"longNamesCleaned\", longNamesCleaned)"
   ]
  },
  {
   "cell_type": "code",
   "execution_count": null,
   "metadata": {
    "id": "aYkSN65hm11E"
   },
   "outputs": [],
   "source": [
    "dataframe_transfermarkt = pd.read_csv(\"/content/drive/MyDrive/footballTeamData/joinedDataframe.csv\")"
   ]
  },
  {
   "cell_type": "code",
   "execution_count": null,
   "metadata": {
    "colab": {
     "base_uri": "https://localhost:8080/",
     "height": 424
    },
    "id": "ZxVOmAIXrhiA",
    "outputId": "24b137b5-2a4a-4276-8407-5fda831b84a0"
   },
   "outputs": [],
   "source": [
    "dataframe_transfermarkt"
   ]
  },
  {
   "cell_type": "code",
   "execution_count": null,
   "metadata": {
    "id": "qlKhp8-vsvTB"
   },
   "outputs": [],
   "source": [
    "columnsTransfermarkt = dataframe_transfermarkt.columns.tolist()"
   ]
  },
  {
   "cell_type": "code",
   "execution_count": null,
   "metadata": {
    "id": "KxrH57_Rsf8X"
   },
   "outputs": [],
   "source": [
    "dataframe_transfermarkt.drop(columns = columnsTransfermarkt[0], axis = 1, inplace = True) "
   ]
  },
  {
   "cell_type": "code",
   "execution_count": null,
   "metadata": {
    "colab": {
     "base_uri": "https://localhost:8080/",
     "height": 424
    },
    "id": "tHNhh62StBly",
    "outputId": "af4f36b5-0f32-499d-b25b-ad4eac034a1c"
   },
   "outputs": [],
   "source": [
    "dataframe_transfermarkt"
   ]
  },
  {
   "cell_type": "code",
   "execution_count": null,
   "metadata": {
    "id": "13YsQ_eYnB-X"
   },
   "outputs": [],
   "source": [
    "name_list = dataframe_transfermarkt[\"Players\"].tolist()"
   ]
  },
  {
   "cell_type": "code",
   "execution_count": null,
   "metadata": {
    "colab": {
     "base_uri": "https://localhost:8080/"
    },
    "id": "tvEmLccj1lFn",
    "outputId": "2504cb88-b3fc-4b5c-fb95-8b92beeea42e"
   },
   "outputs": [],
   "source": [
    "print(name_list)"
   ]
  },
  {
   "cell_type": "code",
   "execution_count": null,
   "metadata": {
    "id": "2lgKv4sp21HY"
   },
   "outputs": [],
   "source": [
    "cleanedTransfermarkt = removeAccentsFromString(name_list)"
   ]
  },
  {
   "cell_type": "code",
   "execution_count": null,
   "metadata": {
    "colab": {
     "base_uri": "https://localhost:8080/"
    },
    "id": "1tkH4lh11bxs",
    "outputId": "2eb32ba6-faaf-4d20-b232-1bcccf61ab2e"
   },
   "outputs": [],
   "source": [
    "print(cleanedTransfermarkt[0])"
   ]
  },
  {
   "cell_type": "code",
   "execution_count": null,
   "metadata": {
    "id": "tbQJPH9IuUGB"
   },
   "outputs": [],
   "source": [
    "def indexOfPlayersInBothDataframesTransfermarktValue(playersName):\n",
    "  listOfTheIndexOfPlayersInBoth = []\n",
    "  playersThatCannotBeFound = []\n",
    "  moreThanOneIndexForPlayer = []\n",
    "  playerNameFound = []\n",
    "  for i in range(len(playersName)):\n",
    "    playerIndex = dataframe_fifa.loc[(dataframe_fifa['shortNamesCleaned'] == playersName[i]) | (dataframe_fifa['longNamesCleaned'] == playersName[i])].index\n",
    "    if(playerIndex.size > 1):\n",
    "      moreThanOneIndexForPlayer.append(playerIndex)\n",
    "      continue\n",
    "    if(playerIndex.size == 0):\n",
    "      playersThatCannotBeFound.append(playersName[i])\n",
    "    else:\n",
    "      listOfTheIndexOfPlayersInBoth.append(playerIndex[0])\n",
    "      playerNameFound.append(playersName[i])\n",
    "\n",
    "  return listOfTheIndexOfPlayersInBoth, playersThatCannotBeFound, playerNameFound\n",
    "\n",
    "  \n"
   ]
  },
  {
   "cell_type": "code",
   "execution_count": null,
   "metadata": {
    "id": "rZ1mORMJySZ_"
   },
   "outputs": [],
   "source": [
    "playersFound = indexOfPlayersInBothDataframesTransfermarktValue(cleanedTransfermarkt)[0]"
   ]
  },
  {
   "cell_type": "code",
   "execution_count": null,
   "metadata": {
    "id": "EorYVFDUxPqf"
   },
   "outputs": [],
   "source": [
    "playersNotFoundList = indexOfPlayersInBothDataframesTransfermarktValue(cleanedTransfermarkt)[1]"
   ]
  },
  {
   "cell_type": "code",
   "execution_count": null,
   "metadata": {
    "id": "RcFB23pNnQx3"
   },
   "outputs": [],
   "source": [
    "playerNameFound = indexOfPlayersInBothDataframesTransfermarktValue(cleanedTransfermarkt)[2]"
   ]
  },
  {
   "cell_type": "code",
   "execution_count": null,
   "metadata": {
    "colab": {
     "base_uri": "https://localhost:8080/"
    },
    "id": "Yynzh9ZjyLMt",
    "outputId": "e5997653-a4b8-4f00-e0e9-f96165c63cd7"
   },
   "outputs": [],
   "source": [
    "len(playersFound) #3461 is the total number of players in the dataset"
   ]
  },
  {
   "cell_type": "code",
   "execution_count": null,
   "metadata": {
    "id": "BLbSVJe0bBno"
   },
   "outputs": [],
   "source": [
    "playersFoundDF = pd.DataFrame()"
   ]
  },
  {
   "cell_type": "code",
   "execution_count": null,
   "metadata": {
    "id": "Albc1dtabIs3"
   },
   "outputs": [],
   "source": [
    "playersFoundDF.insert(0, 'Player Names Found', playerNameFound)"
   ]
  },
  {
   "cell_type": "code",
   "execution_count": null,
   "metadata": {
    "id": "9jeo5sVLbb_6"
   },
   "outputs": [],
   "source": [
    "playersFoundDF.insert(1, 'Index Of Player Found', playersFound)"
   ]
  },
  {
   "cell_type": "code",
   "execution_count": null,
   "metadata": {
    "colab": {
     "base_uri": "https://localhost:8080/"
    },
    "id": "yZ8TCEHFtwVX",
    "outputId": "cd3fa6e0-e73f-4f25-ae33-a8dc439a64d2"
   },
   "outputs": [],
   "source": [
    "print(playersFound) #players found is here "
   ]
  },
  {
   "cell_type": "code",
   "execution_count": null,
   "metadata": {
    "colab": {
     "base_uri": "https://localhost:8080/"
    },
    "id": "K2MFI4m735Ao",
    "outputId": "fec51ef9-ae83-4724-eccf-50f0bfdff270"
   },
   "outputs": [],
   "source": [
    "print(playersNotFoundList)"
   ]
  },
  {
   "cell_type": "code",
   "execution_count": null,
   "metadata": {
    "colab": {
     "base_uri": "https://localhost:8080/",
     "height": 195
    },
    "id": "u54CoITT3Inx",
    "outputId": "89adf6e4-a5a1-4ca1-ab91-0e71b25f6a89"
   },
   "outputs": [],
   "source": [
    "dataframe_fifa.loc[(dataframe_fifa['shortNamesCleaned'] == 'Alvaro Negredo')]"
   ]
  },
  {
   "cell_type": "code",
   "execution_count": null,
   "metadata": {
    "id": "nWYGoe0Z6N1A"
   },
   "outputs": [],
   "source": [
    "def checkForPlayersUsingContains(list_of_players): \n",
    "  indexOfPlayers = []\n",
    "  moreThanOneIndexForPlayer = []\n",
    "  playersThatCannotBeFound = []\n",
    "  playerNameFound = []\n",
    "  for i in range(len(list_of_players)):\n",
    "    playerIndex = dataframe_fifa.loc[dataframe_fifa['longNamesCleaned'].str.contains(list_of_players[i], case=False) | dataframe_fifa['shortNamesCleaned'].str.contains(list_of_players[i], case=False)].index\n",
    "    if(playerIndex.size > 1):\n",
    "      moreThanOneIndexForPlayer.append(playerIndex)\n",
    "      continue\n",
    "    if(playerIndex.size == 0):\n",
    "      playersThatCannotBeFound.append(list_of_players[i])\n",
    "    else:\n",
    "      indexOfPlayers.append(playerIndex[0])\n",
    "      playerNameFound.append(list_of_players[i])\n",
    "\n",
    "  return indexOfPlayers, playersThatCannotBeFound, moreThanOneIndexForPlayer, playerNameFound"
   ]
  },
  {
   "cell_type": "code",
   "execution_count": null,
   "metadata": {
    "id": "ZgVhmEGq8yth"
   },
   "outputs": [],
   "source": [
    "playersRemaining = checkForPlayersUsingContains(playersNotFoundList)"
   ]
  },
  {
   "cell_type": "code",
   "execution_count": null,
   "metadata": {
    "colab": {
     "base_uri": "https://localhost:8080/"
    },
    "id": "4ErUHy00CP4R",
    "outputId": "f6f70937-49ed-415d-e78b-1a057512d14f"
   },
   "outputs": [],
   "source": [
    "len(playersNotFoundList)"
   ]
  },
  {
   "cell_type": "code",
   "execution_count": null,
   "metadata": {
    "id": "TcwKiaBmbp4k"
   },
   "outputs": [],
   "source": [
    "playersFoundDFSecondTime = pd.DataFrame()"
   ]
  },
  {
   "cell_type": "code",
   "execution_count": null,
   "metadata": {
    "id": "jREnk2IobziA"
   },
   "outputs": [],
   "source": [
    "playersFoundDFSecondTime.insert(0, 'Player Names Found', playersRemaining[3])\n",
    "playersFoundDFSecondTime.insert(1, 'Index Of Player Found', playersRemaining[0])"
   ]
  },
  {
   "cell_type": "code",
   "execution_count": null,
   "metadata": {
    "colab": {
     "base_uri": "https://localhost:8080/"
    },
    "id": "GVn-pKK885y1",
    "outputId": "53db0444-bb43-47c9-d1e5-2d7d10d3f88f"
   },
   "outputs": [],
   "source": [
    "print(playersRemaining[0]) #all the players index here "
   ]
  },
  {
   "cell_type": "code",
   "execution_count": null,
   "metadata": {
    "colab": {
     "base_uri": "https://localhost:8080/"
    },
    "id": "KdsbDrFhvqsB",
    "outputId": "de3bba11-36a5-4c26-a8b7-83b2fb6f1180"
   },
   "outputs": [],
   "source": [
    "print(len(playersRemaining[0]))"
   ]
  },
  {
   "cell_type": "code",
   "execution_count": null,
   "metadata": {
    "colab": {
     "base_uri": "https://localhost:8080/"
    },
    "id": "mzmK2nFNAIRJ",
    "outputId": "b260ba97-7b66-4287-c804-2db942ec3714"
   },
   "outputs": [],
   "source": [
    "print(playersRemaining[1])"
   ]
  },
  {
   "cell_type": "code",
   "execution_count": null,
   "metadata": {
    "colab": {
     "base_uri": "https://localhost:8080/"
    },
    "id": "YxWxJwTrVTUL",
    "outputId": "b6b972ec-fce8-4819-db6e-0132f3ee2037"
   },
   "outputs": [],
   "source": [
    "print(len(playersRemaining[1]))"
   ]
  },
  {
   "cell_type": "code",
   "execution_count": null,
   "metadata": {
    "id": "fxcSCtGfKK95"
   },
   "outputs": [],
   "source": [
    "listOfPlayersRemaining = playersRemaining[1]"
   ]
  },
  {
   "cell_type": "code",
   "execution_count": null,
   "metadata": {
    "id": "6cUCO-_Xncxc"
   },
   "outputs": [],
   "source": [
    "playerNameFoundv2 = playersRemaining[3]"
   ]
  },
  {
   "cell_type": "code",
   "execution_count": null,
   "metadata": {
    "id": "qTlzC_0NJoIw"
   },
   "outputs": [],
   "source": [
    "def splitPlayerNames(list_of_players):\n",
    "  listOfNames = []\n",
    "  for i in range(len(list_of_players)):\n",
    "    splitNames = list_of_players[i].split(\" \")\n",
    "    for j in range(len(splitNames)):\n",
    "      listOfNames.append(splitNames[j])\n",
    "  return listOfNames"
   ]
  },
  {
   "cell_type": "code",
   "execution_count": null,
   "metadata": {
    "id": "wcqmv_nFcz75"
   },
   "outputs": [],
   "source": [
    "def checkForPlayerNamesWhichAreSplitUsingContains(list_of_players): \n",
    "  indexOfPlayers = []\n",
    "  playersThatCannotBeFound = []\n",
    "  moreThanOneIndexForPlayer = []\n",
    "  playerNameFound = []\n",
    "  j = 1\n",
    "  for i in range(0,len(list_of_players),2):\n",
    "    playerIndex = dataframe_fifa.loc[dataframe_fifa['longNamesCleaned'].str.contains(list_of_players[i], case=False) & dataframe_fifa['longNamesCleaned'].str.contains(list_of_players[j], case=False)].index\n",
    "    if(playerIndex.size > 1):\n",
    "      moreThanOneIndexForPlayer.append(playerIndex)\n",
    "      j +=2\n",
    "      continue\n",
    "    if(playerIndex.size == 0):\n",
    "      playersThatCannotBeFound.append(list_of_players[i])\n",
    "      playersThatCannotBeFound.append(list_of_players[j])\n",
    "    else:\n",
    "      indexOfPlayers.append(playerIndex[0])\n",
    "      playerNameFound.append(list_of_players[i] + \" \" + list_of_players[j])\n",
    "     \n",
    "\n",
    "    j +=2\n",
    "\n",
    "  return indexOfPlayers, playersThatCannotBeFound, moreThanOneIndexForPlayer, playerNameFound"
   ]
  },
  {
   "cell_type": "code",
   "execution_count": null,
   "metadata": {
    "id": "ta4T84RXKOgx"
   },
   "outputs": [],
   "source": [
    "splitPlayerNames = splitPlayerNames(listOfPlayersRemaining)"
   ]
  },
  {
   "cell_type": "code",
   "execution_count": null,
   "metadata": {
    "colab": {
     "base_uri": "https://localhost:8080/"
    },
    "id": "yZi_qQHwnr2X",
    "outputId": "3101e454-cc32-4034-dd72-541e0f6b0548"
   },
   "outputs": [],
   "source": [
    "print(splitPlayerNames)"
   ]
  },
  {
   "cell_type": "code",
   "execution_count": null,
   "metadata": {
    "id": "-etjut5wdebK"
   },
   "outputs": [],
   "source": [
    "playersFoundUsingAndCondition = checkForPlayerNamesWhichAreSplitUsingContains(splitPlayerNames)"
   ]
  },
  {
   "cell_type": "code",
   "execution_count": null,
   "metadata": {
    "id": "j25ncLF3nr9W"
   },
   "outputs": [],
   "source": [
    "playerNameFoundv3 = playersFoundUsingAndCondition[3]"
   ]
  },
  {
   "cell_type": "code",
   "execution_count": null,
   "metadata": {
    "id": "vqyt_aB3cFLc"
   },
   "outputs": [],
   "source": [
    "playersFoundDFThirdTime = pd.DataFrame()\n",
    "playersFoundDFThirdTime.insert(0, 'Player Names Found', playerNameFoundv3)\n",
    "playersFoundDFThirdTime.insert(1, 'Index Of Player Found', playersFoundUsingAndCondition[0])"
   ]
  },
  {
   "cell_type": "code",
   "execution_count": null,
   "metadata": {
    "colab": {
     "base_uri": "https://localhost:8080/"
    },
    "id": "Uj86_WtZvxYv",
    "outputId": "53310e33-7a8a-4e39-a098-e7fa0d4c15b0"
   },
   "outputs": [],
   "source": [
    "print(len(playersFoundUsingAndCondition[0]))"
   ]
  },
  {
   "cell_type": "code",
   "execution_count": null,
   "metadata": {
    "colab": {
     "base_uri": "https://localhost:8080/"
    },
    "id": "2-RlqRSnVEOA",
    "outputId": "33e56206-4585-42b3-f475-d03095ae62d3"
   },
   "outputs": [],
   "source": [
    "print(len(playersFoundUsingAndCondition[1]))"
   ]
  },
  {
   "cell_type": "code",
   "execution_count": null,
   "metadata": {
    "colab": {
     "base_uri": "https://localhost:8080/",
     "height": 35
    },
    "id": "OypjwFHaZ5c-",
    "outputId": "a0bda701-0a85-4634-cd52-5950b7f09e9c"
   },
   "outputs": [],
   "source": [
    "playersFoundUsingAndCondition[1][2]"
   ]
  },
  {
   "cell_type": "code",
   "execution_count": null,
   "metadata": {
    "colab": {
     "base_uri": "https://localhost:8080/",
     "height": 35
    },
    "id": "I5Vs4SDKaBY_",
    "outputId": "0fb4de10-dc58-4d42-e378-3920a6e17bc6"
   },
   "outputs": [],
   "source": [
    "playersFoundUsingAndCondition[1][3]"
   ]
  },
  {
   "cell_type": "code",
   "execution_count": null,
   "metadata": {
    "colab": {
     "base_uri": "https://localhost:8080/",
     "height": 195
    },
    "id": "tV1fLMGGauAe",
    "outputId": "40dd8ff1-42d5-457b-c14c-c4bb97f3f0f7"
   },
   "outputs": [],
   "source": [
    "#Emiliano Velazquez\n",
    "dataframe_fifa.loc[dataframe_fifa['longNamesCleaned'].str.contains(playersFoundUsingAndCondition[1][2], case=False) & dataframe_fifa['longNamesCleaned'].str.contains(playersFoundUsingAndCondition[1][3], case=False) ]"
   ]
  },
  {
   "cell_type": "code",
   "execution_count": null,
   "metadata": {
    "colab": {
     "base_uri": "https://localhost:8080/",
     "height": 424
    },
    "id": "j3KN7hEAcOOW",
    "outputId": "a79514c0-0e7c-413d-d9cd-0077d1a075eb"
   },
   "outputs": [],
   "source": [
    "playersFoundDF"
   ]
  },
  {
   "cell_type": "code",
   "execution_count": null,
   "metadata": {
    "colab": {
     "base_uri": "https://localhost:8080/",
     "height": 424
    },
    "id": "kdt_4_6AcOLt",
    "outputId": "7bcf2ca0-c83f-4296-f874-f26010dc4852"
   },
   "outputs": [],
   "source": [
    "playersFoundDFSecondTime"
   ]
  },
  {
   "cell_type": "code",
   "execution_count": null,
   "metadata": {
    "colab": {
     "base_uri": "https://localhost:8080/",
     "height": 424
    },
    "id": "G_a0fNyTcNgg",
    "outputId": "c132f011-5a20-48c0-cba2-82358a2199b4"
   },
   "outputs": [],
   "source": [
    "playersFoundDFThirdTime"
   ]
  },
  {
   "cell_type": "code",
   "execution_count": null,
   "metadata": {
    "id": "e9DXNJMqd7E9"
   },
   "outputs": [],
   "source": [
    "nameDf = pd.concat([playersFoundDF , playersFoundDFSecondTime , playersFoundDFThirdTime])"
   ]
  },
  {
   "cell_type": "code",
   "execution_count": null,
   "metadata": {
    "colab": {
     "base_uri": "https://localhost:8080/",
     "height": 424
    },
    "id": "4FM0MyLIepXE",
    "outputId": "01a09df7-cc49-4825-9bcf-9857bc5abcb4"
   },
   "outputs": [],
   "source": [
    "nameDf"
   ]
  },
  {
   "cell_type": "markdown",
   "metadata": {
    "id": "iZw__rgnccEi"
   },
   "source": [
    "# using all the methods to get the player indexes of the players found in transfermarkt"
   ]
  },
  {
   "cell_type": "code",
   "execution_count": null,
   "metadata": {
    "colab": {
     "base_uri": "https://localhost:8080/"
    },
    "id": "mCf4YBdydkLD",
    "outputId": "1239d66c-3bb3-4e9c-99fc-10896f2ef29d"
   },
   "outputs": [],
   "source": [
    "playersFound #3461 is the total number of players in the dataset"
   ]
  },
  {
   "cell_type": "code",
   "execution_count": null,
   "metadata": {
    "colab": {
     "base_uri": "https://localhost:8080/"
    },
    "id": "vuoBr0rIiWoQ",
    "outputId": "af733b12-0b33-4314-b943-0f26f00ce628"
   },
   "outputs": [],
   "source": [
    "len(playersFound)"
   ]
  },
  {
   "cell_type": "code",
   "execution_count": null,
   "metadata": {
    "colab": {
     "base_uri": "https://localhost:8080/"
    },
    "id": "VEjOHfqjdj4P",
    "outputId": "9cce8594-bc7e-40f3-d252-95a5a3782474"
   },
   "outputs": [],
   "source": [
    "len(playersRemaining[0])"
   ]
  },
  {
   "cell_type": "code",
   "execution_count": null,
   "metadata": {
    "colab": {
     "base_uri": "https://localhost:8080/"
    },
    "id": "75IkDaKPcUhz",
    "outputId": "2b86175b-6b5c-40c0-c479-097f00426edd"
   },
   "outputs": [],
   "source": [
    "len(playersFoundUsingAndCondition[0])"
   ]
  },
  {
   "cell_type": "code",
   "execution_count": null,
   "metadata": {
    "id": "0n7t7FJUeRPj"
   },
   "outputs": [],
   "source": [
    "arrayOfAllIndexes =np.concatenate((playersFound, playersRemaining[0], playersFoundUsingAndCondition[0]), axis=None)"
   ]
  },
  {
   "cell_type": "code",
   "execution_count": null,
   "metadata": {
    "id": "FVcRInWgefUb"
   },
   "outputs": [],
   "source": [
    "arrayOfAllIndexes = arrayOfAllIndexes.tolist()"
   ]
  },
  {
   "cell_type": "code",
   "execution_count": null,
   "metadata": {
    "colab": {
     "base_uri": "https://localhost:8080/"
    },
    "id": "Nqz2WY8djHfa",
    "outputId": "77e8d83e-8300-447e-f4ba-1f87f8725101"
   },
   "outputs": [],
   "source": [
    "len(arrayOfAllIndexes)"
   ]
  },
  {
   "cell_type": "code",
   "execution_count": null,
   "metadata": {
    "colab": {
     "base_uri": "https://localhost:8080/"
    },
    "id": "WS72Elm0Skot",
    "outputId": "26d18a01-5984-42a1-f67f-2f1339da391d"
   },
   "outputs": [],
   "source": [
    "arrayOfAllIndexes"
   ]
  },
  {
   "cell_type": "markdown",
   "metadata": {
    "id": "6uDNnfxsn4VN"
   },
   "source": [
    "# All the player names and the indexes of the players that are both in the transfermarkt and the fifa dataset  \n",
    "\n"
   ]
  },
  {
   "cell_type": "code",
   "execution_count": null,
   "metadata": {
    "id": "QVDU90wdn3kk"
   },
   "outputs": [],
   "source": [
    "playerNamesFoundInBothDataset = np.concatenate((playerNameFound, playerNameFoundv2, playerNameFoundv3), axis=None)"
   ]
  },
  {
   "cell_type": "code",
   "execution_count": null,
   "metadata": {
    "id": "38yyVFFsSZ7F"
   },
   "outputs": [],
   "source": [
    "playerNamesFoundInBothDataset = playerNamesFoundInBothDataset.tolist()"
   ]
  },
  {
   "cell_type": "code",
   "execution_count": null,
   "metadata": {
    "colab": {
     "base_uri": "https://localhost:8080/"
    },
    "id": "twLk1ubUSkuL",
    "outputId": "18263dc6-683b-49dc-b6c3-8bbadf6de89e"
   },
   "outputs": [],
   "source": [
    "playerNamesFoundInBothDataset"
   ]
  },
  {
   "cell_type": "code",
   "execution_count": null,
   "metadata": {
    "colab": {
     "base_uri": "https://localhost:8080/"
    },
    "id": "MK0FIfSpVwf_",
    "outputId": "cd489b98-a98b-45ff-c02e-43e89ddcb670"
   },
   "outputs": [],
   "source": [
    "'Thomas Partey' in playerNamesFoundInBothDataset"
   ]
  },
  {
   "cell_type": "code",
   "execution_count": null,
   "metadata": {
    "id": "uSBQ7JqrcjrT"
   },
   "outputs": [],
   "source": [
    "from pandas import DataFrame\n",
    "dfPlayersNamesFound = DataFrame(playerNamesFoundInBothDataset,columns=['Player Names'])"
   ]
  },
  {
   "cell_type": "code",
   "execution_count": null,
   "metadata": {
    "colab": {
     "base_uri": "https://localhost:8080/",
     "height": 424
    },
    "id": "dQh8eHkmcwZN",
    "outputId": "b16e05c0-1055-4a14-e079-216e5032d7f0"
   },
   "outputs": [],
   "source": [
    "dfPlayersNamesFound"
   ]
  },
  {
   "cell_type": "code",
   "execution_count": null,
   "metadata": {
    "colab": {
     "base_uri": "https://localhost:8080/",
     "height": 424
    },
    "id": "E91Tarx4c2_f",
    "outputId": "4d1ead12-6bc3-4cc5-8a06-533e49ef246e"
   },
   "outputs": [],
   "source": [
    "dataframe_transfermarkt"
   ]
  },
  {
   "cell_type": "code",
   "execution_count": null,
   "metadata": {
    "id": "FfJr--WDdjqU"
   },
   "outputs": [],
   "source": [
    "playersDFList = dataframe_transfermarkt['Players'].tolist()"
   ]
  },
  {
   "cell_type": "code",
   "execution_count": null,
   "metadata": {
    "id": "tlkYobLrdnl5"
   },
   "outputs": [],
   "source": [
    "namesRemovedWithAccentsForFinalDF = removeAccentsFromString(playersDFList)"
   ]
  },
  {
   "cell_type": "code",
   "execution_count": null,
   "metadata": {
    "id": "hEINlu3ZdnrK"
   },
   "outputs": [],
   "source": [
    "dataframe_transfermarkt.insert(1, \"Player Names\", namesRemovedWithAccentsForFinalDF)"
   ]
  },
  {
   "cell_type": "code",
   "execution_count": null,
   "metadata": {
    "colab": {
     "base_uri": "https://localhost:8080/",
     "height": 424
    },
    "id": "ABGq_H2heFUc",
    "outputId": "163c591b-479f-4fc3-d7d9-1e36efcfe849"
   },
   "outputs": [],
   "source": [
    "dataframe_transfermarkt"
   ]
  },
  {
   "cell_type": "code",
   "execution_count": null,
   "metadata": {
    "id": "zSHIimZhePo6"
   },
   "outputs": [],
   "source": [
    "dataframe_transfermarkt.drop(['Players'], axis = 1, inplace = True) "
   ]
  },
  {
   "cell_type": "code",
   "execution_count": null,
   "metadata": {
    "colab": {
     "base_uri": "https://localhost:8080/",
     "height": 424
    },
    "id": "q9hV_ko5eU20",
    "outputId": "69ed57d6-4072-4c1a-8521-d7589180cdfb"
   },
   "outputs": [],
   "source": [
    "dataframe_transfermarkt"
   ]
  },
  {
   "cell_type": "code",
   "execution_count": null,
   "metadata": {
    "colab": {
     "base_uri": "https://localhost:8080/",
     "height": 424
    },
    "id": "41TvGMFmfjbA",
    "outputId": "ba2e2e01-e66e-45eb-8358-dda69d8dffe3"
   },
   "outputs": [],
   "source": [
    "nameDf"
   ]
  },
  {
   "cell_type": "code",
   "execution_count": null,
   "metadata": {
    "id": "m5YPaDcjfEdb"
   },
   "outputs": [],
   "source": [
    "sortedNameDF = nameDf.sort_values(by='Player Names Found', ascending=True)"
   ]
  },
  {
   "cell_type": "code",
   "execution_count": null,
   "metadata": {
    "colab": {
     "base_uri": "https://localhost:8080/",
     "height": 424
    },
    "id": "BAldbQZmfxu2",
    "outputId": "b07a1d14-40c1-437f-8347-e4b0f389e7d3"
   },
   "outputs": [],
   "source": [
    "sortedNameDF.drop_duplicates(subset=['Index Of Player Found'])"
   ]
  },
  {
   "cell_type": "code",
   "execution_count": null,
   "metadata": {
    "id": "b5Tn5BNHi0HL"
   },
   "outputs": [],
   "source": [
    "sortedNameDF.rename(columns={'Player Names Found':'Player Names'}, inplace=True)"
   ]
  },
  {
   "cell_type": "code",
   "execution_count": null,
   "metadata": {
    "id": "OLnoca6gkBSE"
   },
   "outputs": [],
   "source": [
    "Both_DFs = pd.merge(sortedNameDF,dataframe_transfermarkt, how='left',left_on=['Player Names'],right_on=['Player Names'])"
   ]
  },
  {
   "cell_type": "code",
   "execution_count": null,
   "metadata": {
    "colab": {
     "base_uri": "https://localhost:8080/",
     "height": 424
    },
    "id": "jiZy7CUVkWDI",
    "outputId": "b85c13ce-6d8a-4cdf-d8ce-3bf9290d83e8"
   },
   "outputs": [],
   "source": [
    "Both_DFs.drop_duplicates(subset=['Index Of Player Found'])\n"
   ]
  },
  {
   "cell_type": "code",
   "execution_count": null,
   "metadata": {
    "colab": {
     "base_uri": "https://localhost:8080/"
    },
    "id": "TzAGVi7Tktng",
    "outputId": "9c2d3c84-b7e0-4eac-92f0-211bbacf73b0"
   },
   "outputs": [],
   "source": [
    "dataframe_transfermarkt[dataframe_transfermarkt['Player Names'] == 'Lionel Messi'].values"
   ]
  },
  {
   "cell_type": "code",
   "execution_count": null,
   "metadata": {
    "id": "xAkn7ZjcjG1C"
   },
   "outputs": [],
   "source": [
    "bothSortedDF = Both_DFs.sort_values(by='Index Of Player Found', ascending= True)"
   ]
  },
  {
   "cell_type": "code",
   "execution_count": null,
   "metadata": {
    "id": "W_kxh_2YmKIm"
   },
   "outputs": [],
   "source": [
    "droppedDupDF = bothSortedDF.drop_duplicates(subset=['Index Of Player Found'])"
   ]
  },
  {
   "cell_type": "code",
   "execution_count": null,
   "metadata": {
    "id": "toNDkjgmmQx0"
   },
   "outputs": [],
   "source": [
    "ValuesList = droppedDupDF['Values'].values.tolist()"
   ]
  },
  {
   "cell_type": "code",
   "execution_count": null,
   "metadata": {
    "id": "RTQrireknUV3"
   },
   "outputs": [],
   "source": [
    "droppedDupDF = droppedDupDF.append({'Player Names':'Lionel Messi', 'Index Of Player Found':0, 'Values':79016681.29968}, ignore_index=True)"
   ]
  },
  {
   "cell_type": "code",
   "execution_count": null,
   "metadata": {
    "id": "fl0imOs2mau8"
   },
   "outputs": [],
   "source": [
    "ValuesList.insert(0,79016681.29968)"
   ]
  },
  {
   "cell_type": "code",
   "execution_count": null,
   "metadata": {
    "id": "sbmCAGCLn0qJ"
   },
   "outputs": [],
   "source": [
    "droppedDupDF = droppedDupDF.sort_values(by='Index Of Player Found', ascending= True)"
   ]
  },
  {
   "cell_type": "code",
   "execution_count": null,
   "metadata": {
    "id": "0jlk611Mn8Yb"
   },
   "outputs": [],
   "source": [
    "FifaBoth_DFs = pd.merge(dataframe_fifa,droppedDupDF, how='left',left_on=['Index Of Player Found'],right_on=['Index Of Player Found'])"
   ]
  },
  {
   "cell_type": "code",
   "execution_count": null,
   "metadata": {
    "colab": {
     "base_uri": "https://localhost:8080/",
     "height": 818
    },
    "id": "_zE_2o6KpExn",
    "outputId": "368b0969-b532-4791-a7d2-663319a46fee"
   },
   "outputs": [],
   "source": [
    "# FifaBoth_DFs.dropna('Value')\n",
    "FifaBoth_DFs = FifaBoth_DFs[FifaBoth_DFs['Values'].notna()]\n",
    "FifaBoth_DFs"
   ]
  },
  {
   "cell_type": "code",
   "execution_count": null,
   "metadata": {
    "colab": {
     "base_uri": "https://localhost:8080/"
    },
    "id": "4EaK4cWKpYBI",
    "outputId": "1eba7274-14a8-41d6-c438-dedc10e49a22"
   },
   "outputs": [],
   "source": [
    "FifaBoth_DFs.drop(columns = ['Index Of Player Found', 'Player Names'], inplace=True)"
   ]
  },
  {
   "cell_type": "code",
   "execution_count": null,
   "metadata": {
    "colab": {
     "base_uri": "https://localhost:8080/",
     "height": 765
    },
    "id": "uzpYTOvBpj5h",
    "outputId": "df904301-a523-4c9e-b804-f085e0699912"
   },
   "outputs": [],
   "source": [
    "FifaBoth_DFs"
   ]
  },
  {
   "cell_type": "code",
   "execution_count": null,
   "metadata": {
    "colab": {
     "base_uri": "https://localhost:8080/"
    },
    "id": "jJJzNcfCrGqi",
    "outputId": "6a8c15e5-39f1-4af3-b90a-031e3a34b5d7"
   },
   "outputs": [],
   "source": [
    "FifaBoth_DFs.drop(['real_face','player_tags','sofifa_id','player_url','long_name','dob','league_name','international_reputation','player_tags','loaned_from','team_jersey_number','joined','nation_position','international_reputation','nation_jersey_number','nationality','body_type','player_traits','lwb','rcm','cm','rdm','lb','rwb', 'rw','lm','lw', 'lcm', 'lcb','cb', 'rcb', 'rm','st','cf','lf','rf','lam','cam', 'ram','ls','rs', 'rb', 'ldm', 'cdm','team_position', 'shortNamesCleaned',\n",
    " 'longNamesCleaned', 'gk_diving','gk_handling','gk_reflexes','gk_positioning','gk_kicking'], axis=1, inplace=True)"
   ]
  },
  {
   "cell_type": "code",
   "execution_count": null,
   "metadata": {
    "colab": {
     "base_uri": "https://localhost:8080/",
     "height": 627
    },
    "id": "QFfTJEbzrtxN",
    "outputId": "f3d2ee82-ff49-414d-cdec-8713d49b8918"
   },
   "outputs": [],
   "source": [
    "FifaBoth_DFs"
   ]
  },
  {
   "cell_type": "code",
   "execution_count": null,
   "metadata": {
    "colab": {
     "base_uri": "https://localhost:8080/"
    },
    "id": "ZNqA9VUhuRL-",
    "outputId": "4ac1222b-b12e-4ac3-9094-995202a469eb"
   },
   "outputs": [],
   "source": [
    "listOfColumns = FifaBoth_DFs.columns.tolist()\n",
    "listOfColumns"
   ]
  },
  {
   "cell_type": "code",
   "execution_count": null,
   "metadata": {
    "colab": {
     "base_uri": "https://localhost:8080/",
     "height": 35
    },
    "id": "RtaLwM1cuXXi",
    "outputId": "1e346af3-49be-47ad-d17f-fcf05b6989d1"
   },
   "outputs": [],
   "source": [
    "listOfColumns[18]"
   ]
  },
  {
   "cell_type": "code",
   "execution_count": null,
   "metadata": {
    "colab": {
     "base_uri": "https://localhost:8080/"
    },
    "id": "T-xEtIEZtkqD",
    "outputId": "ee32f327-10fc-4adb-ffcb-09bd267ac2fd"
   },
   "outputs": [],
   "source": [
    "from sklearn.preprocessing import MinMaxScaler\n",
    "\n",
    "FifaBoth_DFs['attacking_work_rate'] = FifaBoth_DFs['work_rate'].map(lambda x: x.split('/')[0])\n",
    "FifaBoth_DFs['defensive_work_rate'] = FifaBoth_DFs['work_rate'].map(lambda x: x.split('/')[1])\n",
    "FifaBoth_DFs.drop(columns = ['work_rate'], inplace=True) \n",
    "cleanup_work_rates = {\"attacking_work_rate\":     {\"Low\": 1, \"Medium\": 2, \"High\": 3},\n",
    "                \"defensive_work_rate\": {\"Low\": 1, \"Medium\": 2, \"High\": 3}}\n",
    "FifaBoth_DFs = FifaBoth_DFs.replace(cleanup_work_rates)\n",
    "new_FifaBoth_DFs = FifaBoth_DFs.loc[:, ~FifaBoth_DFs.columns.isin(['short_name','club_name','player_positions', 'preferred_foot', 'value_eur', 'Values'])]\n",
    "normalisation = MinMaxScaler() \n",
    "array_normalised = normalisation.fit_transform(new_FifaBoth_DFs) \n",
    "columns_not_being_normalised = ['short_name','club_name','player_positions', 'preferred_foot', 'value_eur', 'Values']\n",
    "FifaBoth_DFs_normalised = pd.DataFrame(array_normalised, columns=new_FifaBoth_DFs.columns,index=new_FifaBoth_DFs.index)\n",
    "joined_dataframe = pd.concat([FifaBoth_DFs[columns_not_being_normalised],FifaBoth_DFs_normalised], axis = 1)\n",
    "joined_dataframe['player_positions_one'] = joined_dataframe['player_positions'].map(lambda x: x.split(',')[0])\n",
    "joined_dataframe.drop(columns = ['player_positions'], inplace=True) \n",
    "cleanup_player_positions = {\"player_positions_one\":     {\"GK\": 1, \"LWB\": 2, \"LB\": 3, \"CB\": 4, \"RWB\": 5, \"RB\": 6, \"CDM\": 7, \"CM\": 8, \"LM\": 9,\"RM\": 10, \"CAM\": 11, \"CF\": 12, \"LW\": 13, \"RW\": 14, \"ST\": 15 }}\n",
    "joined_dataframe = joined_dataframe.replace(cleanup_player_positions)\n",
    "list_of_positions = joined_dataframe.player_positions_one.unique().tolist()\n",
    "joined_dataframe.drop(columns = ['club_name', 'league_rank'], inplace=True) \n",
    "cleanup_preferred_foot = {\"preferred_foot\":     {\"Left\": 0, \"Right\": 1}}\n",
    "joined_dataframe = joined_dataframe.replace(cleanup_preferred_foot)"
   ]
  },
  {
   "cell_type": "code",
   "execution_count": null,
   "metadata": {
    "colab": {
     "base_uri": "https://localhost:8080/",
     "height": 522
    },
    "id": "54fPOOsasGQR",
    "outputId": "f81bb0db-30fb-421e-b6fb-9f4e7805db4b"
   },
   "outputs": [],
   "source": [
    "joined_dataframe"
   ]
  },
  {
   "cell_type": "markdown",
   "metadata": {
    "id": "sqUTD6tyN9YT"
   },
   "source": [
    "# Data Analysis Section "
   ]
  },
  {
   "cell_type": "code",
   "execution_count": null,
   "metadata": {
    "colab": {
     "base_uri": "https://localhost:8080/",
     "height": 602
    },
    "id": "FRJpa-0FOQoY",
    "outputId": "7b16fb29-72ab-4f30-8782-fe94e4535db7"
   },
   "outputs": [],
   "source": [
    "boxplot = joined_dataframe.boxplot(column=['Values']) "
   ]
  },
  {
   "cell_type": "code",
   "execution_count": null,
   "metadata": {
    "id": "5_6aEaQ_PTFs"
   },
   "outputs": [],
   "source": [
    "maxValue = joined_dataframe['Values'].max()"
   ]
  },
  {
   "cell_type": "code",
   "execution_count": null,
   "metadata": {
    "colab": {
     "base_uri": "https://localhost:8080/",
     "height": 174
    },
    "id": "EivMOR8OPccw",
    "outputId": "d39a4b46-df50-42d5-ea3c-7295140559fb"
   },
   "outputs": [],
   "source": [
    "joined_dataframe[joined_dataframe['Values'] == maxValue]"
   ]
  },
  {
   "cell_type": "code",
   "execution_count": null,
   "metadata": {
    "colab": {
     "base_uri": "https://localhost:8080/",
     "height": 442
    },
    "id": "ybCJPRuuOSXC",
    "outputId": "f489c63c-d78b-4795-ade9-dfb4849cadf6"
   },
   "outputs": [],
   "source": [
    "#Plot frequency of player value ranges in €5 million intervals\n",
    "fig = plt.figure(figsize = (10,7))\n",
    "#Use 20 bins of player values. Value divided by 10^6 so x-axis units are in millions\n",
    "(joined_dataframe['Values']/10**6).plot.hist(bins = 20)\n",
    "plt.ticklabel_format(style = 'plain', axis = 'x')\n",
    "plt.xticks(np.arange(0,125,10))\n",
    "plt.xlabel('Player values (€M)')\n",
    "plt.show()"
   ]
  },
  {
   "cell_type": "markdown",
   "metadata": {
    "id": "h17ZMIUkOchh"
   },
   "source": [
    "# More Cleaning"
   ]
  },
  {
   "cell_type": "code",
   "execution_count": null,
   "metadata": {
    "colab": {
     "base_uri": "https://localhost:8080/"
    },
    "id": "aSbOvuZVxKjq",
    "outputId": "e7161ce1-f078-4067-8bac-f07601dc0410"
   },
   "outputs": [],
   "source": [
    "\n",
    "goalkeepers = ['GK']\n",
    "goalkeepers_dataframe = joined_dataframe[joined_dataframe['player_positions_one'] == 1] \n",
    "\n",
    "removing_goalkeeping_stats = [\"gk_speed\"]\n",
    "outfield_dataframe = joined_dataframe[joined_dataframe['player_positions_one'] != 1]\n",
    "\n",
    "outfield_dataframe.drop(columns = removing_goalkeeping_stats, inplace=True) \n",
    "\n",
    "deletedRows = [\"shooting\", \"pace\",\"passing\", \"dribbling\", \"defending\", \"physic\"]\n",
    "\n",
    "goalkeepers_dataframe.drop(columns = deletedRows, inplace=True) \n",
    "print(outfield_dataframe.columns)\n",
    "\n",
    "playerNameCol = [\"short_name\"]\n",
    "\n",
    "copygoalkeepers_dataframe = goalkeepers_dataframe.copy()\n",
    "copygoalkeepers_dataframe.drop(columns = playerNameCol, inplace=True) \n",
    "copyoutfielddf = outfield_dataframe.copy()\n",
    "copyoutfielddf.drop(columns = playerNameCol, inplace=True) "
   ]
  },
  {
   "cell_type": "code",
   "execution_count": null,
   "metadata": {
    "colab": {
     "base_uri": "https://localhost:8080/"
    },
    "id": "crx9v34jxXAM",
    "outputId": "97fcffdc-4f14-40bd-cb6d-181e8ea4d08b"
   },
   "outputs": [],
   "source": [
    "copyoutfielddf.info()"
   ]
  },
  {
   "cell_type": "code",
   "execution_count": null,
   "metadata": {
    "id": "ASLzTqVi95pc"
   },
   "outputs": [],
   "source": [
    "copyoutfielddf.drop(['release_clause_eur', 'defending_marking', 'value_eur'], axis = 1, inplace = True) "
   ]
  },
  {
   "cell_type": "code",
   "execution_count": null,
   "metadata": {
    "colab": {
     "base_uri": "https://localhost:8080/",
     "height": 488
    },
    "id": "SvYK2kzix_dT",
    "outputId": "504c2b8b-c8df-4a8b-d393-60c3bd639bba"
   },
   "outputs": [],
   "source": [
    "copygoalkeepers_dataframe"
   ]
  },
  {
   "cell_type": "code",
   "execution_count": null,
   "metadata": {
    "colab": {
     "base_uri": "https://localhost:8080/"
    },
    "id": "6IYyX5Q_6dCS",
    "outputId": "81eae44e-ae93-4e89-abb1-0069c8d6bf63"
   },
   "outputs": [],
   "source": [
    "copygoalkeepers_dataframe.info()"
   ]
  },
  {
   "cell_type": "code",
   "execution_count": null,
   "metadata": {
    "id": "9rWTL62TMbHD"
   },
   "outputs": [],
   "source": [
    "from sklearn.metrics import mean_squared_error\n",
    "from sklearn.metrics import mean_absolute_error\n",
    "from sklearn.metrics import r2_score\n",
    "from math import sqrt\n",
    "\n",
    "def EvaluativeMethods(actualVals, predictedVals):\n",
    "  array = []\n",
    "  rmse = sqrt(mean_squared_error(actualVals, predictedVals))\n",
    "  mse = mean_squared_error(actualVals,predictedVals)\n",
    "  mae = mean_absolute_error(actualVals,predictedVals)\n",
    "  rSquared = r2_score(actualVals, predictedVals)\n",
    "\n",
    "  return rmse, mse, mae, rSquared"
   ]
  },
  {
   "cell_type": "code",
   "execution_count": null,
   "metadata": {
    "id": "VzLR8Dow2KfW"
   },
   "outputs": [],
   "source": [
    "#import required packages\n",
    "from sklearn import neighbors\n",
    "from sklearn.metrics import mean_squared_error \n",
    "from math import sqrt\n",
    "import matplotlib.pyplot as plt\n",
    "from sklearn.model_selection import GridSearchCV\n",
    "from sklearn.model_selection import train_test_split\n",
    "%matplotlib inline\n",
    "import catboost as cb\n",
    "import numpy as np\n",
    "import pandas as pd\n",
    "import seaborn as sns\n",
    "import shap\n",
    "from sklearn.model_selection import train_test_split\n",
    "from sklearn.metrics import mean_squared_error\n",
    "from sklearn.metrics import r2_score\n",
    "from sklearn.inspection import permutation_importance\n",
    "import pandas\n",
    "from sklearn import linear_model\n",
    "import matplotlib.pyplot as plt"
   ]
  },
  {
   "cell_type": "code",
   "execution_count": null,
   "metadata": {
    "id": "jOC9fU-eichh"
   },
   "outputs": [],
   "source": [
    "def plotFeatureImportanceAsGraph(listOfFeatures,listOfFeatureImportanceVals, modelType):\n",
    "  data={'feature_names':listOfFeatures,'feature_importance':listOfFeatureImportanceVals}\n",
    "  df = pd.DataFrame(data)\n",
    "\n",
    "  #Sort the DataFrame in order decreasing feature importance\n",
    "  df.sort_values(by=['feature_importance'], ascending=False,inplace=True)\n",
    "\n",
    "  #Define size of bar plot\n",
    "  plt.figure(figsize=(10,8))\n",
    "  #Plot Searborn bar chart\n",
    "  sns.barplot(x=df['feature_importance'], y=df['feature_names'])\n",
    "  #Add chart labels\n",
    "  plt.title(modelType + ' FEATURE IMPORTANCE')\n",
    "  plt.xlabel('FEATURE IMPORTANCE')\n",
    "  plt.ylabel('FEATURE NAMES')"
   ]
  },
  {
   "cell_type": "code",
   "execution_count": null,
   "metadata": {
    "colab": {
     "base_uri": "https://localhost:8080/"
    },
    "id": "IWW5Y5GE6sjn",
    "outputId": "6c20b988-5415-4b2f-d7ef-c0026c68bc5e"
   },
   "outputs": [],
   "source": [
    "'''\n",
    "FUNCTION: CheckForNaNsInColumn\n",
    "\n",
    "INPUT: \n",
    "dataframe holding all of the information for the football players\n",
    "column_name = the column that the null values will be checked again\n",
    "\n",
    "OUTPUT: does not return anything prints the total of null values within a column\n",
    "\n",
    "\n",
    "'''\n",
    "\n",
    "def checkForNaNsInColumn(dataframe, column_name):\n",
    "  print(column_name)\n",
    "  print(dataframe[column_name].isnull().sum())\n",
    "  \n",
    "for column in copygoalkeepers_dataframe.columns:\n",
    "  checkForNaNsInColumn(copygoalkeepers_dataframe,column)"
   ]
  },
  {
   "cell_type": "code",
   "execution_count": null,
   "metadata": {
    "colab": {
     "base_uri": "https://localhost:8080/"
    },
    "id": "3uWphSot-Xkj",
    "outputId": "ffeeb17c-4887-4d06-d7b9-122844fc6eec"
   },
   "outputs": [],
   "source": [
    "for column in copyoutfielddf.columns:\n",
    "  checkForNaNsInColumn(copyoutfielddf,column)"
   ]
  },
  {
   "cell_type": "code",
   "execution_count": null,
   "metadata": {
    "id": "0RKRjB9U68V_"
   },
   "outputs": [],
   "source": [
    "copygoalkeepers_dataframe.drop(['release_clause_eur', 'defending_marking', 'value_eur','skill_moves'], axis = 1, inplace = True) "
   ]
  },
  {
   "cell_type": "code",
   "execution_count": null,
   "metadata": {
    "colab": {
     "base_uri": "https://localhost:8080/"
    },
    "id": "nF_2ZUOb3cDO",
    "outputId": "285e9414-64f1-4006-e63f-bbf2ab5926db"
   },
   "outputs": [],
   "source": [
    "copygoalkeepers_dataframe.columns"
   ]
  },
  {
   "cell_type": "code",
   "execution_count": null,
   "metadata": {
    "colab": {
     "base_uri": "https://localhost:8080/",
     "height": 709
    },
    "id": "bRkH5lDYzuM8",
    "outputId": "f7ed6cca-d981-43c3-f1da-ad59080f2c59"
   },
   "outputs": [],
   "source": [
    "# optional: resize images from now on\n",
    "plt.rcParams[\"figure.figsize\"] = (10, 10)\n",
    "\n",
    "# numeric_only_columns is a list of columns of the DataFrame\n",
    "# containing numerical data only\n",
    "# annot = True to visualize the correlation factor\n",
    "\n",
    "sns.heatmap(copygoalkeepers_dataframe.corr(), annot = False)\n",
    "plt.show()"
   ]
  },
  {
   "cell_type": "code",
   "execution_count": null,
   "metadata": {
    "colab": {
     "base_uri": "https://localhost:8080/",
     "height": 709
    },
    "id": "_Ygg33s_z4Oa",
    "outputId": "3e0aea74-9574-4d68-c1ef-0590dac42ee4"
   },
   "outputs": [],
   "source": [
    "# optional: resize images from now on\n",
    "plt.rcParams[\"figure.figsize\"] = (10, 10)\n",
    "\n",
    "# numeric_only_columns is a list of columns of the DataFrame\n",
    "# containing numerical data only\n",
    "# annot = True to visualize the correlation factor\n",
    "\n",
    "sns.heatmap(copyoutfielddf.corr(), annot = False)\n",
    "plt.show()"
   ]
  },
  {
   "cell_type": "markdown",
   "metadata": {
    "id": "d5IVC4UP0CnB"
   },
   "source": [
    "# Run the following models on the transfermarkt data:\n",
    "**LR**\n",
    "\n",
    "**KNN**\n",
    "\n",
    "**Random Forest**\n",
    "\n",
    "**Decision Tree**\n",
    "\n",
    "**Linear SVR Model**\n",
    "\n",
    "**XGBoost**"
   ]
  },
  {
   "cell_type": "markdown",
   "metadata": {
    "id": "wioMTudV5omC"
   },
   "source": [
    "Linear Regression Goalkeepers\n"
   ]
  },
  {
   "cell_type": "code",
   "execution_count": null,
   "metadata": {
    "colab": {
     "base_uri": "https://localhost:8080/"
    },
    "id": "meZZ2pQa5jmG",
    "outputId": "5c340c47-bd63-4a10-8fc6-e8d2b46977a7"
   },
   "outputs": [],
   "source": [
    "train , test = train_test_split(copygoalkeepers_dataframe, test_size = 0.2)\n",
    "\n",
    "x_train = train.drop('Values', axis=1)\n",
    "y_train = train['Values']\n",
    "\n",
    "\n",
    "x_test = test.drop('Values', axis = 1)\n",
    "y_test = test['Values']\n",
    "\n",
    "regrLRGoalie = linear_model.LinearRegression()\n",
    "regrLRGoalie.fit(x_train, y_train)"
   ]
  },
  {
   "cell_type": "code",
   "execution_count": null,
   "metadata": {
    "id": "7d6joJsi6AHV"
   },
   "outputs": [],
   "source": [
    "y_predLRGoalie = regrLRGoalie.predict(x_test)"
   ]
  },
  {
   "cell_type": "code",
   "execution_count": null,
   "metadata": {
    "colab": {
     "base_uri": "https://localhost:8080/"
    },
    "id": "lDSOPSMiLf6a",
    "outputId": "bae975e4-457a-4d3f-b592-996eb4bd3396"
   },
   "outputs": [],
   "source": [
    "EvaluativeMethods(y_test,y_predLRGoalie)"
   ]
  },
  {
   "cell_type": "code",
   "execution_count": null,
   "metadata": {
    "colab": {
     "base_uri": "https://localhost:8080/"
    },
    "id": "rXMmJ-NL6AJ2",
    "outputId": "b2ea451e-ceb0-43a4-956f-81d4649b49a3"
   },
   "outputs": [],
   "source": [
    "r2_score(y_test, y_predLRGoalie)"
   ]
  },
  {
   "cell_type": "code",
   "execution_count": null,
   "metadata": {
    "colab": {
     "base_uri": "https://localhost:8080/",
     "height": 585
    },
    "id": "r9EXZQpR6DGD",
    "outputId": "e391be12-c207-41f4-ca58-ea4fc8aacd48"
   },
   "outputs": [],
   "source": [
    "explainer = shap.LinearExplainer(regrLRGoalie, x_test)\n",
    "shap_values = explainer.shap_values(x_test)\n",
    "shap.summary_plot(shap_values, x_test)"
   ]
  },
  {
   "cell_type": "code",
   "execution_count": null,
   "metadata": {
    "colab": {
     "base_uri": "https://localhost:8080/",
     "height": 513
    },
    "id": "DNoXQWZntJuG",
    "outputId": "706bc766-bfc6-4d97-df49-c3fcf7468061"
   },
   "outputs": [],
   "source": [
    "plotFeatureImportanceAsGraph(regrLRGoalie.feature_names_in_, regrLRGoalie.coef_, \"Goalkeeping Linear Regression model\")"
   ]
  },
  {
   "cell_type": "markdown",
   "metadata": {
    "id": "VyCf7WI2Bsrp"
   },
   "source": [
    "# XGBoostRegressor"
   ]
  },
  {
   "cell_type": "code",
   "execution_count": null,
   "metadata": {
    "id": "bPXGnKI56DIO"
   },
   "outputs": [],
   "source": [
    "train , test = train_test_split(copygoalkeepers_dataframe,shuffle = True, test_size = 0.2)\n",
    "\n",
    "x_train = train.drop('Values', axis=1)\n",
    "y_train = train['Values']\n",
    "\n",
    "\n",
    "x_test = test.drop('Values', axis = 1)\n",
    "y_test = test['Values']\n",
    "\n",
    "xgbr = XGBRegressor(n_estimators=1000,learning_rate=0.1)"
   ]
  },
  {
   "cell_type": "code",
   "execution_count": null,
   "metadata": {
    "colab": {
     "base_uri": "https://localhost:8080/"
    },
    "id": "b94X_Ig_B57-",
    "outputId": "a1976307-50c1-4ad3-d626-8ed3099dc9ce"
   },
   "outputs": [],
   "source": [
    "xgbr_model = xgbr.fit(x_train, y_train)"
   ]
  },
  {
   "cell_type": "code",
   "execution_count": null,
   "metadata": {
    "id": "cilbYfe0B5-f"
   },
   "outputs": [],
   "source": [
    "est = xgbr_model.predict(x_test)"
   ]
  },
  {
   "cell_type": "code",
   "execution_count": null,
   "metadata": {
    "colab": {
     "base_uri": "https://localhost:8080/"
    },
    "id": "SnywwRUPLyrM",
    "outputId": "3c91f5ce-81c3-4c38-864a-691aeb4722ab"
   },
   "outputs": [],
   "source": [
    "EvaluativeMethods(y_test,est)"
   ]
  },
  {
   "cell_type": "code",
   "execution_count": null,
   "metadata": {
    "colab": {
     "base_uri": "https://localhost:8080/",
     "height": 585
    },
    "id": "4dCyNO25B95_",
    "outputId": "70be39d3-b824-4f6c-9c67-15e0dc56857c"
   },
   "outputs": [],
   "source": [
    "explainer = shap.TreeExplainer(xgbr_model, x_test)\n",
    "shap_values = explainer.shap_values(x_test)\n",
    "shap.summary_plot(shap_values, x_test)"
   ]
  },
  {
   "cell_type": "code",
   "execution_count": null,
   "metadata": {
    "colab": {
     "base_uri": "https://localhost:8080/"
    },
    "id": "onM91dVHu4il",
    "outputId": "97a308d5-2abd-4daa-f41c-3fd0121763b8"
   },
   "outputs": [],
   "source": [
    "x_train.columns.tolist()"
   ]
  },
  {
   "cell_type": "code",
   "execution_count": null,
   "metadata": {
    "id": "vPQfnPLss5vt"
   },
   "outputs": [],
   "source": [
    "featuresXGbrImportance = xgbr_model.feature_importances_"
   ]
  },
  {
   "cell_type": "code",
   "execution_count": null,
   "metadata": {
    "colab": {
     "base_uri": "https://localhost:8080/",
     "height": 513
    },
    "id": "hGer6N_-s28Y",
    "outputId": "f3d9217b-3623-4872-eef0-ea6184b08086"
   },
   "outputs": [],
   "source": [
    "plotFeatureImportanceAsGraph(x_train.columns.tolist(), featuresXGbrImportance, \"Goalkeeper XGBoost model\")"
   ]
  },
  {
   "cell_type": "markdown",
   "metadata": {
    "id": "OJEyN1Qi5g5k"
   },
   "source": [
    "Linear Regression Outfield Players\n"
   ]
  },
  {
   "cell_type": "code",
   "execution_count": null,
   "metadata": {
    "id": "DKxP9YoDAhRw"
   },
   "outputs": [],
   "source": [
    "copyoutfielddf.dropna(subset=['contract_valid_until'],inplace=True)"
   ]
  },
  {
   "cell_type": "code",
   "execution_count": null,
   "metadata": {
    "colab": {
     "base_uri": "https://localhost:8080/"
    },
    "id": "-HSJdXU04ZCx",
    "outputId": "7301d87b-fe58-4163-e8a8-affd4326d751"
   },
   "outputs": [],
   "source": [
    "copyoutfielddf.columns"
   ]
  },
  {
   "cell_type": "code",
   "execution_count": null,
   "metadata": {
    "colab": {
     "base_uri": "https://localhost:8080/"
    },
    "id": "lhNH-FtN5ra1",
    "outputId": "56636f06-b633-4494-bbc9-e31744a46fe0"
   },
   "outputs": [],
   "source": [
    "train , test = train_test_split(copyoutfielddf,shuffle = True, test_size = 0.2)\n",
    "\n",
    "x_train = train.drop('Values', axis=1)\n",
    "y_train = train['Values']\n",
    "\n",
    "\n",
    "x_test = test.drop('Values', axis = 1)\n",
    "y_test = test['Values']\n",
    "\n",
    "regrLROutfield = linear_model.LinearRegression()\n",
    "regrLROutfield.fit(x_train, y_train)"
   ]
  },
  {
   "cell_type": "code",
   "execution_count": null,
   "metadata": {
    "id": "Hea_ik1C_00V"
   },
   "outputs": [],
   "source": [
    "y_predLROutfield = regrLROutfield.predict(x_test)"
   ]
  },
  {
   "cell_type": "code",
   "execution_count": null,
   "metadata": {
    "colab": {
     "base_uri": "https://localhost:8080/"
    },
    "id": "ev1jy6dFL6yP",
    "outputId": "e3655eb2-20de-4489-86d4-13ed91ea413b"
   },
   "outputs": [],
   "source": [
    "EvaluativeMethods(y_test,y_predLROutfield)"
   ]
  },
  {
   "cell_type": "markdown",
   "metadata": {
    "id": "WqYXAFo70APE"
   },
   "source": [
    "X axis is in the outcome variable "
   ]
  },
  {
   "cell_type": "code",
   "execution_count": null,
   "metadata": {
    "colab": {
     "base_uri": "https://localhost:8080/",
     "height": 585
    },
    "id": "yS4ry1Uo_4gK",
    "outputId": "35d212a3-0009-4d15-8b57-c72a71877cd0"
   },
   "outputs": [],
   "source": [
    "explainer = shap.LinearExplainer(regrLROutfield, x_test)\n",
    "shap_values = explainer.shap_values(x_test)\n",
    "shap.summary_plot(shap_values, x_test)"
   ]
  },
  {
   "cell_type": "code",
   "execution_count": null,
   "metadata": {
    "colab": {
     "base_uri": "https://localhost:8080/",
     "height": 513
    },
    "id": "qS_wr-plsy-j",
    "outputId": "eec9b81b-d1ae-4aef-969a-e29569538b0d"
   },
   "outputs": [],
   "source": [
    "plotFeatureImportanceAsGraph(regrLROutfield.feature_names_in_, regrLROutfield.coef_, \"Outfield Linear Regression model\")"
   ]
  },
  {
   "cell_type": "markdown",
   "metadata": {
    "id": "0sAlQG1z1DrC"
   },
   "source": [
    "XGRegressor"
   ]
  },
  {
   "cell_type": "code",
   "execution_count": null,
   "metadata": {
    "id": "EzSdZdF-1FZu"
   },
   "outputs": [],
   "source": [
    "train , test = train_test_split(copyoutfielddf, test_size = 0.2)\n",
    "\n",
    "x_train = train.drop('Values', axis=1)\n",
    "y_train = train['Values']\n",
    "\n",
    "\n",
    "x_test = test.drop('Values', axis = 1)\n",
    "y_test = test['Values']\n",
    "\n",
    "xgbrOutfield = XGBRegressor(n_estimators=1000,learning_rate=0.1)"
   ]
  },
  {
   "cell_type": "code",
   "execution_count": null,
   "metadata": {
    "colab": {
     "base_uri": "https://localhost:8080/"
    },
    "id": "HRLPfPax1FcG",
    "outputId": "b7fe3fb1-4771-42d7-90e0-5bce2cae9b58"
   },
   "outputs": [],
   "source": [
    "xgbr_modelOutfield = xgbrOutfield.fit(x_train, y_train)"
   ]
  },
  {
   "cell_type": "code",
   "execution_count": null,
   "metadata": {
    "id": "Qkjaq1CF1FeX"
   },
   "outputs": [],
   "source": [
    "estOutfield = xgbr_modelOutfield.predict(x_test)"
   ]
  },
  {
   "cell_type": "code",
   "execution_count": null,
   "metadata": {
    "id": "fGawwjMMspON"
   },
   "outputs": [],
   "source": [
    "features_xgbrImportance = xgbr_modelOutfield.feature_importances_"
   ]
  },
  {
   "cell_type": "code",
   "execution_count": null,
   "metadata": {
    "colab": {
     "base_uri": "https://localhost:8080/"
    },
    "id": "0qzJMxF5wM-P",
    "outputId": "a8e5e0e7-4e73-4eab-b8a1-f4f5d46e4a94"
   },
   "outputs": [],
   "source": [
    "x_test.columns.tolist()"
   ]
  },
  {
   "cell_type": "code",
   "execution_count": null,
   "metadata": {
    "colab": {
     "base_uri": "https://localhost:8080/"
    },
    "id": "G9SE0g-41FgZ",
    "outputId": "436a1c8f-4c6c-47b3-c077-5ebdee4f77c6"
   },
   "outputs": [],
   "source": [
    "EvaluativeMethods(y_test,estOutfield)"
   ]
  },
  {
   "cell_type": "code",
   "execution_count": null,
   "metadata": {
    "colab": {
     "base_uri": "https://localhost:8080/",
     "height": 585
    },
    "id": "d9LUQeG81aT7",
    "outputId": "ac827dbd-900c-4308-b7aa-0d5c52f46b4a"
   },
   "outputs": [],
   "source": [
    "explainer = shap.TreeExplainer(xgbr_modelOutfield, x_test)\n",
    "shap_values = explainer.shap_values(x_test)\n",
    "shap.summary_plot(shap_values, x_test)"
   ]
  },
  {
   "cell_type": "code",
   "execution_count": null,
   "metadata": {
    "colab": {
     "base_uri": "https://localhost:8080/",
     "height": 513
    },
    "id": "vmS-2Q0p1aXk",
    "outputId": "f0e2f88a-da6b-44bf-ce06-8c5beb0e6924"
   },
   "outputs": [],
   "source": [
    "plotFeatureImportanceAsGraph(x_test.columns.tolist(), features_xgbrImportance, \"Outfield XGBoost model\")"
   ]
  },
  {
   "cell_type": "markdown",
   "metadata": {
    "id": "xjboB-qq38aw"
   },
   "source": [
    "KNN Outfield Players "
   ]
  },
  {
   "cell_type": "code",
   "execution_count": null,
   "metadata": {
    "colab": {
     "base_uri": "https://localhost:8080/"
    },
    "id": "Q0XK9Bp_-t69",
    "outputId": "ad4686a3-af35-4809-9698-a7dc0c227d92"
   },
   "outputs": [],
   "source": [
    "copyoutfielddf.columns"
   ]
  },
  {
   "cell_type": "code",
   "execution_count": null,
   "metadata": {
    "colab": {
     "base_uri": "https://localhost:8080/"
    },
    "id": "jg-j9EqqbdCA",
    "outputId": "7afef2e1-fe3d-4b97-b40c-65a5476e6a36"
   },
   "outputs": [],
   "source": [
    "#dataframe with the outcome values\n",
    "\n",
    "#dataframe with the values not including outcome value\n",
    "\n",
    "\n",
    "train , test = train_test_split(copyoutfielddf, test_size = 0.2)\n",
    "\n",
    "x_train = train.drop('Values', axis=1)\n",
    "y_train = train['Values']\n",
    "\n",
    "x_test = test.drop('Values', axis = 1)\n",
    "y_test = test['Values']\n",
    "\n",
    "knnOutfield = neighbors.KNeighborsRegressor()\n",
    "\n",
    "# params = {'n_neighbors':[2,3,4,5,6,7,8,9]}\n",
    "\n",
    "# model = GridSearchCV(knn, params, cv=5)\n",
    "knnOutfield.fit(x_train,y_train)\n",
    "#model.best_params_"
   ]
  },
  {
   "cell_type": "code",
   "execution_count": null,
   "metadata": {
    "id": "TL3qoqE1OSb-"
   },
   "outputs": [],
   "source": [
    "y_predKNNOutfield = knnOutfield.predict(x_test)"
   ]
  },
  {
   "cell_type": "code",
   "execution_count": null,
   "metadata": {
    "colab": {
     "base_uri": "https://localhost:8080/"
    },
    "id": "pOp0ip18ML1L",
    "outputId": "53c86185-6be5-4102-cd4e-d054b18538a9"
   },
   "outputs": [],
   "source": [
    "EvaluativeMethods(y_test,y_predKNNOutfield)"
   ]
  },
  {
   "cell_type": "code",
   "execution_count": null,
   "metadata": {
    "colab": {
     "base_uri": "https://localhost:8080/"
    },
    "id": "plIt5jPksqkE",
    "outputId": "e500f04d-6e40-44a2-fb0a-d07ee1d75064"
   },
   "outputs": [],
   "source": [
    "x_test.iloc[10]"
   ]
  },
  {
   "cell_type": "code",
   "execution_count": null,
   "metadata": {
    "colab": {
     "base_uri": "https://localhost:8080/",
     "height": 1000,
     "referenced_widgets": [
      "5d41ab50275740d498cdeb4ce148a067",
      "89355fb9af7f4ed4b3d2d9b763be6f1a",
      "7a53dab49f3542659daa5239b4a17b18",
      "ce9c2b22df904aa58704ebb2224f4083",
      "53eeab5ffd2848bfa4adc4e32d4b516f",
      "1c260b382dfb43b28c1ef6f3d4d428cc",
      "cdbb1bf4b5de4b98998ae2bd9007e186",
      "bcd6b9f434a14dd8ba34fbf89ce557c7",
      "b3742c67f07246789e14b3f14705fda2",
      "10d1b4dcc66d48da9d3563a209910d7e",
      "6a87dd63557844d1a5565b8dbdd963a2"
     ]
    },
    "id": "4pYsXFbLswmH",
    "outputId": "a9396e38-162f-4441-e02b-5025448adbee"
   },
   "outputs": [],
   "source": [
    "explainer = shap.KernelExplainer(knnOutfield.predict, x_test)\n",
    "shap.initjs()\n",
    "# Get shap values for the test data observation whose index is 0, i.e. first observation in the test set\n",
    "shap_values = explainer.shap_values(x_test)\n",
    "\n",
    "shap.summary_plot(shap_values, x_test)"
   ]
  },
  {
   "cell_type": "markdown",
   "metadata": {
    "id": "RwRvw6Ne8pzw"
   },
   "source": [
    "Goalkeeper dataframe using KNN Model"
   ]
  },
  {
   "cell_type": "code",
   "execution_count": null,
   "metadata": {
    "id": "X2h3TfeI2OrF"
   },
   "outputs": [],
   "source": [
    "#dataframe with the outcome values\n",
    "\n",
    "#dataframe with the values not including outcome value\n",
    "\n",
    "\n",
    "train , test = train_test_split(copygoalkeepers_dataframe, test_size = 0.2)\n",
    "\n",
    "x_train = train.drop('Values', axis=1)\n",
    "y_train = train['Values']\n",
    "\n",
    "x_test = test.drop('Values', axis = 1)\n",
    "y_test = test['Values']\n",
    "\n",
    "knnGoalie = neighbors.KNeighborsRegressor()\n",
    "\n",
    "#model = GridSearchCV(knn, params, cv=5)\n",
    "knnGoalie = knnGoalie.fit(x_train,y_train)\n",
    "y_predknnGoalie = knnGoalie.predict(x_test)"
   ]
  },
  {
   "cell_type": "code",
   "execution_count": null,
   "metadata": {
    "colab": {
     "base_uri": "https://localhost:8080/"
    },
    "id": "PGZB-plVMp1t",
    "outputId": "bea3fb39-0bea-44b7-fc3b-752dbba5f901"
   },
   "outputs": [],
   "source": [
    "EvaluativeMethods(y_test,y_predknnGoalie)"
   ]
  },
  {
   "cell_type": "code",
   "execution_count": null,
   "metadata": {
    "colab": {
     "base_uri": "https://localhost:8080/",
     "height": 1000,
     "referenced_widgets": [
      "8db179d1784546fbbb039b24213b1836",
      "dff3be7d2add46658e0f2e32b781713a",
      "9ba737d51a5341a1841c02e78b3d06b7",
      "48dbc2a266274ec3b1f8ea9539559ae0",
      "25250e2b5348497d97efee695e95b94d",
      "316a34ee368240ee962b21319640a2f1",
      "c4784803587f4d7e99c7a8d669baba04",
      "877a22d896de4ca69875d1a72adf33af",
      "04e722ea064642e0a9453a53eb3575a3",
      "3a7aad1e133741eea357189f732a3b43",
      "a03974ae1dc54152945fe423a7ddabe5"
     ]
    },
    "id": "5FZo-6-0rwu3",
    "outputId": "53714035-f232-427f-be6b-2246e57885f4"
   },
   "outputs": [],
   "source": [
    "explainer = shap.KernelExplainer(knnGoalie.predict, x_test)\n",
    "shap.initjs()\n",
    "# Get shap values for the test data observation whose index is 0, i.e. first observation in the test set\n",
    "shap_values = explainer.shap_values(x_test)\n",
    "\n",
    "shap.summary_plot(shap_values, x_test)"
   ]
  },
  {
   "cell_type": "markdown",
   "metadata": {
    "id": "LPMaNMk2EQnA"
   },
   "source": [
    "# Random Forest Model"
   ]
  },
  {
   "cell_type": "markdown",
   "metadata": {
    "id": "mvyXWTz-EoVS"
   },
   "source": [
    "Outfield Players"
   ]
  },
  {
   "cell_type": "code",
   "execution_count": null,
   "metadata": {
    "colab": {
     "base_uri": "https://localhost:8080/"
    },
    "id": "PiD_XV-MEdHJ",
    "outputId": "dacf2f52-f8d4-4ae7-c69f-1c31372c2883"
   },
   "outputs": [],
   "source": [
    "train , test = train_test_split(copyoutfielddf, shuffle=True, test_size = 0.2)\n",
    "\n",
    "x_train = train.drop('Values', axis=1)\n",
    "y_train = train['Values']\n",
    "\n",
    "\n",
    "x_test = test.drop('Values', axis = 1)\n",
    "y_test = test['Values']\n",
    "\n",
    "regressorRFOutfield = RandomForestRegressor(n_estimators = 20)\n",
    "regressorRFOutfield.fit(x_train, y_train) "
   ]
  },
  {
   "cell_type": "code",
   "execution_count": null,
   "metadata": {
    "colab": {
     "base_uri": "https://localhost:8080/",
     "height": 174
    },
    "id": "M8AWWPi1doZe",
    "outputId": "f62280aa-089a-47b8-d2d1-1513d549c4f0"
   },
   "outputs": [],
   "source": [
    "x_test.iloc[[12]]"
   ]
  },
  {
   "cell_type": "code",
   "execution_count": null,
   "metadata": {
    "id": "kPaivg21F9-e"
   },
   "outputs": [],
   "source": [
    "Y_predregressorRFOutfield = regressorRFOutfield.predict(x_test)"
   ]
  },
  {
   "cell_type": "code",
   "execution_count": null,
   "metadata": {
    "colab": {
     "base_uri": "https://localhost:8080/"
    },
    "id": "GsjW-mh8MtVa",
    "outputId": "30829b95-4142-411f-d6e8-36d98cd969ac"
   },
   "outputs": [],
   "source": [
    "EvaluativeMethods(y_test,Y_predregressorRFOutfield)"
   ]
  },
  {
   "cell_type": "code",
   "execution_count": null,
   "metadata": {
    "colab": {
     "base_uri": "https://localhost:8080/",
     "height": 611
    },
    "id": "ZvHL7UmQqCY_",
    "outputId": "b05f7924-b49d-43f9-eeb1-efd248b163f9"
   },
   "outputs": [],
   "source": [
    "explainer = shap.TreeExplainer(regressorRFOutfield)\n",
    "shap.initjs()\n",
    "shap_values = explainer.shap_values(x_test)\n",
    "shap.summary_plot(shap_values, x_test)"
   ]
  },
  {
   "cell_type": "code",
   "execution_count": null,
   "metadata": {
    "id": "2ssmnYkNjLLx"
   },
   "outputs": [],
   "source": [
    "features = x_test.columns.tolist()"
   ]
  },
  {
   "cell_type": "code",
   "execution_count": null,
   "metadata": {
    "id": "LrtN-6Yfnzg7"
   },
   "outputs": [],
   "source": [
    "random_forest_feature_importance = regressorRFOutfield.feature_importances_"
   ]
  },
  {
   "cell_type": "code",
   "execution_count": null,
   "metadata": {
    "colab": {
     "base_uri": "https://localhost:8080/",
     "height": 513
    },
    "id": "9k83FCM-gNwu",
    "outputId": "36cc8862-dc04-46ed-fa9b-721ebb0949b3"
   },
   "outputs": [],
   "source": [
    "plotFeatureImportanceAsGraph(features, random_forest_feature_importance, \"Outfield Random Forest model\")"
   ]
  },
  {
   "cell_type": "markdown",
   "metadata": {
    "id": "ZNtvWgcuEpgl"
   },
   "source": [
    "**Goalkeepers**"
   ]
  },
  {
   "cell_type": "code",
   "execution_count": null,
   "metadata": {
    "colab": {
     "base_uri": "https://localhost:8080/"
    },
    "id": "Hdc0_f-6EdEX",
    "outputId": "973f1a77-b297-42c2-86b0-b43e066381e4"
   },
   "outputs": [],
   "source": [
    "train , test = train_test_split(copygoalkeepers_dataframe,shuffle = True, test_size = 0.2)\n",
    "\n",
    "x_train = train.drop('Values', axis=1)\n",
    "y_train = train['Values']\n",
    "\n",
    "\n",
    "x_test = test.drop('Values', axis = 1)\n",
    "y_test = test['Values']\n",
    "\n",
    "regressorRFGoalie = RandomForestRegressor(n_estimators = 100)\n",
    "regressorRFGoalie.fit(x_train, y_train) "
   ]
  },
  {
   "cell_type": "code",
   "execution_count": null,
   "metadata": {
    "id": "2vXTSXm0F-le"
   },
   "outputs": [],
   "source": [
    "Y_predregressorRFGoalie = regressorRFGoalie.predict(x_test)"
   ]
  },
  {
   "cell_type": "code",
   "execution_count": null,
   "metadata": {
    "colab": {
     "base_uri": "https://localhost:8080/"
    },
    "id": "pCK5GPX-M3n5",
    "outputId": "7eb78f24-4e6f-4132-b884-ea5d7546ce4e"
   },
   "outputs": [],
   "source": [
    "EvaluativeMethods(y_test,Y_predregressorRFGoalie)"
   ]
  },
  {
   "cell_type": "code",
   "execution_count": null,
   "metadata": {
    "id": "GGqphho8cJW1"
   },
   "outputs": [],
   "source": [
    "explainer = shap.TreeExplainer(regressorRFGoalie)"
   ]
  },
  {
   "cell_type": "code",
   "execution_count": null,
   "metadata": {
    "colab": {
     "base_uri": "https://localhost:8080/"
    },
    "id": "7FUxIn34cPNu",
    "outputId": "421d3b10-d40b-45b5-be2b-81a2311aebdb"
   },
   "outputs": [],
   "source": [
    "x_test.iloc[12]"
   ]
  },
  {
   "cell_type": "code",
   "execution_count": null,
   "metadata": {
    "colab": {
     "base_uri": "https://localhost:8080/",
     "height": 611
    },
    "id": "ppfbJN0mo9dl",
    "outputId": "f1f28624-1648-4c09-96c5-1e234f971b91"
   },
   "outputs": [],
   "source": [
    "explainer = shap.TreeExplainer(regressorRFGoalie)\n",
    "shap.initjs()\n",
    "shap_values = explainer.shap_values(x_test)\n",
    "shap.summary_plot(shap_values, x_test)"
   ]
  },
  {
   "cell_type": "code",
   "execution_count": null,
   "metadata": {
    "id": "1z4eT1lTcYwt"
   },
   "outputs": [],
   "source": [
    "# choosen_instance = x_test.iloc[12]\n",
    "# shap_values = explainer.shap_values(choosen_instance)\n",
    "# shap.initjs()\n",
    "# shap.force_plot(explainer.expected_value, shap_values, choosen_instance)"
   ]
  },
  {
   "cell_type": "code",
   "execution_count": null,
   "metadata": {
    "id": "fiMJ1NY6o6_z"
   },
   "outputs": [],
   "source": [
    "features = x_train.columns"
   ]
  },
  {
   "cell_type": "code",
   "execution_count": null,
   "metadata": {
    "id": "HY55HAcnnyS5"
   },
   "outputs": [],
   "source": [
    "random_forest_feature_importance = regressorRFGoalie.feature_importances_"
   ]
  },
  {
   "cell_type": "code",
   "execution_count": null,
   "metadata": {
    "colab": {
     "base_uri": "https://localhost:8080/"
    },
    "id": "9csUhfVe6HTz",
    "outputId": "85e3d3c7-3378-412b-b5aa-ad6678c5c0df"
   },
   "outputs": [],
   "source": [
    "random_forest_feature_importance"
   ]
  },
  {
   "cell_type": "code",
   "execution_count": null,
   "metadata": {
    "colab": {
     "base_uri": "https://localhost:8080/",
     "height": 513
    },
    "id": "1uRJi7lvp0k_",
    "outputId": "04cfeaaf-5fa7-43e5-8d73-f6aa0df1024a"
   },
   "outputs": [],
   "source": [
    "plotFeatureImportanceAsGraph(features, random_forest_feature_importance, \"Goalkeeper Random Forest model\")"
   ]
  },
  {
   "cell_type": "markdown",
   "metadata": {
    "id": "5LvnFIc9EK3T"
   },
   "source": [
    "# Decision Tree Model"
   ]
  },
  {
   "cell_type": "markdown",
   "metadata": {
    "id": "xcCiI6UGEqXf"
   },
   "source": [
    "Outfield Players"
   ]
  },
  {
   "cell_type": "code",
   "execution_count": null,
   "metadata": {
    "id": "vO9h5JxhEdCI"
   },
   "outputs": [],
   "source": [
    "from sklearn.tree import DecisionTreeRegressor\n",
    "train , test = train_test_split(copyoutfielddf, test_size = 0.2)\n",
    "\n",
    "x_train = train.drop('Values', axis=1)\n",
    "y_train = train['Values']\n",
    "\n",
    "\n",
    "x_test = test.drop('Values', axis = 1)\n",
    "y_test = test['Values']\n",
    "\n",
    "DTtree_regOutfield = DecisionTreeRegressor()\n",
    "DTtree_regOutfield.fit(x_train, y_train)\n",
    "Y_predDTOutfield = DTtree_regOutfield.predict(x_test)"
   ]
  },
  {
   "cell_type": "code",
   "execution_count": null,
   "metadata": {
    "id": "M9XZljZfeSUR"
   },
   "outputs": [],
   "source": [
    "explainer = shap.TreeExplainer(DTtree_regOutfield)"
   ]
  },
  {
   "cell_type": "code",
   "execution_count": null,
   "metadata": {
    "colab": {
     "base_uri": "https://localhost:8080/",
     "height": 174
    },
    "id": "RwpKitamebZo",
    "outputId": "dac782be-5ec7-4f8b-cbca-588419f52aa2"
   },
   "outputs": [],
   "source": [
    "x_test.iloc[[13]]"
   ]
  },
  {
   "cell_type": "code",
   "execution_count": null,
   "metadata": {
    "colab": {
     "base_uri": "https://localhost:8080/"
    },
    "id": "oHsSWNpNNBkk",
    "outputId": "41d2f031-34e6-41d4-eefe-6033019bb0d8"
   },
   "outputs": [],
   "source": [
    "EvaluativeMethods(y_test,Y_predDTOutfield)"
   ]
  },
  {
   "cell_type": "code",
   "execution_count": null,
   "metadata": {
    "colab": {
     "base_uri": "https://localhost:8080/"
    },
    "id": "Anw9jyb4etlW",
    "outputId": "3bb7e048-8202-42e1-f0fc-58c69acd2bec"
   },
   "outputs": [],
   "source": [
    "DTtree_regOutfield.predict(x_test.iloc[[13]])"
   ]
  },
  {
   "cell_type": "code",
   "execution_count": null,
   "metadata": {
    "colab": {
     "base_uri": "https://localhost:8080/",
     "height": 611
    },
    "id": "6X4cU3A7pmvR",
    "outputId": "52ad7e27-0615-491c-ca43-706c3bbb459b"
   },
   "outputs": [],
   "source": [
    "explainer = shap.TreeExplainer(DTtree_regOutfield)\n",
    "shap.initjs()\n",
    "shap_values = explainer.shap_values(x_test)\n",
    "shap.summary_plot(shap_values, x_test)"
   ]
  },
  {
   "cell_type": "code",
   "execution_count": null,
   "metadata": {
    "id": "rUmzowWDeMJQ"
   },
   "outputs": [],
   "source": [
    "importance = DTtree_regOutfield.feature_importances_\n",
    "DTtree_regOutfield.feature_names = (x_train.columns.values)"
   ]
  },
  {
   "cell_type": "code",
   "execution_count": null,
   "metadata": {
    "colab": {
     "base_uri": "https://localhost:8080/",
     "height": 513
    },
    "id": "OL91JpGxiSPV",
    "outputId": "d3bcd411-abc5-4178-f91e-91d2c5076873"
   },
   "outputs": [],
   "source": [
    "plotFeatureImportanceAsGraph(DTtree_regOutfield.feature_names, importance, \"Outfield Decision Tree model\")"
   ]
  },
  {
   "cell_type": "markdown",
   "metadata": {
    "id": "zvS0JQ8YErb1"
   },
   "source": [
    "Goalkeepers"
   ]
  },
  {
   "cell_type": "code",
   "execution_count": null,
   "metadata": {
    "id": "s1d-nIV2EdAM"
   },
   "outputs": [],
   "source": [
    "from sklearn.tree import DecisionTreeRegressor\n",
    "train , test = train_test_split(copygoalkeepers_dataframe, test_size = 0.2)\n",
    "\n",
    "x_train = train.drop('Values', axis=1)\n",
    "y_train = train['Values']\n",
    "\n",
    "\n",
    "x_test = test.drop('Values', axis = 1)\n",
    "y_test = test['Values']\n",
    "\n",
    "DTtree_regGoalie = DecisionTreeRegressor()\n",
    "DTtree_regGoalie.fit(x_train, y_train)\n",
    "y_predGoalDT = DTtree_regGoalie.predict(x_test)"
   ]
  },
  {
   "cell_type": "code",
   "execution_count": null,
   "metadata": {
    "colab": {
     "base_uri": "https://localhost:8080/"
    },
    "id": "Nf5kc58jNX2B",
    "outputId": "6ea235a7-a442-4d6b-b84b-d68214b2bb04"
   },
   "outputs": [],
   "source": [
    "EvaluativeMethods(y_test,y_predGoalDT)"
   ]
  },
  {
   "cell_type": "code",
   "execution_count": null,
   "metadata": {
    "id": "NxAHCvzPeNRb"
   },
   "outputs": [],
   "source": [
    "importance = DTtree_regGoalie.feature_importances_\n",
    "DTtree_regGoalie.feature_names = (x_train.columns.values)"
   ]
  },
  {
   "cell_type": "code",
   "execution_count": null,
   "metadata": {
    "colab": {
     "base_uri": "https://localhost:8080/",
     "height": 611
    },
    "id": "LBCdkcSvp4Iw",
    "outputId": "f21b44f3-d595-4de6-c230-c7795c22a1b3"
   },
   "outputs": [],
   "source": [
    "explainer = shap.TreeExplainer(DTtree_regGoalie)\n",
    "shap.initjs()\n",
    "shap_values = explainer.shap_values(x_test)\n",
    "shap.summary_plot(shap_values, x_test)"
   ]
  },
  {
   "cell_type": "code",
   "execution_count": null,
   "metadata": {
    "colab": {
     "base_uri": "https://localhost:8080/",
     "height": 513
    },
    "id": "wKNQlvnAqdzm",
    "outputId": "d21311b0-1a53-49db-9270-d0e3e91c7b31"
   },
   "outputs": [],
   "source": [
    "plotFeatureImportanceAsGraph(DTtree_regGoalie.feature_names, importance, \"Goalkeeper Decision Tree model\")"
   ]
  },
  {
   "cell_type": "markdown",
   "metadata": {
    "id": "FhxLwfNlESgh"
   },
   "source": [
    "# Linear SVR"
   ]
  },
  {
   "cell_type": "markdown",
   "metadata": {
    "id": "i8RfM2GyElbi"
   },
   "source": [
    "Outfield Players"
   ]
  },
  {
   "cell_type": "code",
   "execution_count": null,
   "metadata": {
    "id": "tVyfmZ8IEc7z"
   },
   "outputs": [],
   "source": [
    "from sklearn import svm\n",
    "train , test = train_test_split(copyoutfielddf, test_size = 0.2)\n",
    "\n",
    "x_train = train.drop('Values', axis=1)\n",
    "y_train = train['Values']\n",
    "\n",
    "\n",
    "x_test = test.drop('Values', axis = 1)\n",
    "y_test = test['Values']\n",
    "\n",
    "regrLRSVROutfield = svm.LinearSVR()\n",
    "regrLRSVROutfield.fit(x_train, y_train)\n",
    "\n",
    "Y_predLRSVROutfield = regrLRSVROutfield.predict(x_test)"
   ]
  },
  {
   "cell_type": "code",
   "execution_count": null,
   "metadata": {
    "id": "b17Qe3cWrQRo"
   },
   "outputs": [],
   "source": [
    "importance = regrLRSVROutfield.coef_"
   ]
  },
  {
   "cell_type": "code",
   "execution_count": null,
   "metadata": {
    "colab": {
     "base_uri": "https://localhost:8080/"
    },
    "id": "QSypOSl6Nhq0",
    "outputId": "b82a2856-a56f-4be0-8887-91bd0caeb705"
   },
   "outputs": [],
   "source": [
    "EvaluativeMethods(y_test,Y_predLRSVROutfield)"
   ]
  },
  {
   "cell_type": "code",
   "execution_count": null,
   "metadata": {
    "colab": {
     "base_uri": "https://localhost:8080/",
     "height": 513
    },
    "id": "TP6G2Mr8r_3H",
    "outputId": "a770a1dc-5dea-40bb-a191-f1fdc02e479f"
   },
   "outputs": [],
   "source": [
    "plotFeatureImportanceAsGraph(regrLRSVROutfield.feature_names_in_, importance, \"Outfield Linear SVR model\")"
   ]
  },
  {
   "cell_type": "code",
   "execution_count": null,
   "metadata": {
    "colab": {
     "base_uri": "https://localhost:8080/",
     "height": 611
    },
    "id": "lNUm7tYu8Cva",
    "outputId": "679cb224-f014-4e02-ca80-cd175a86d6af"
   },
   "outputs": [],
   "source": [
    "explainer = shap.LinearExplainer(regrLRSVROutfield, x_test)\n",
    "shap.initjs()\n",
    "shap_values = explainer.shap_values(x_test)\n",
    "shap.summary_plot(shap_values, x_test)"
   ]
  },
  {
   "cell_type": "markdown",
   "metadata": {
    "id": "nkTZ4OyREm-P"
   },
   "source": [
    "Goalkeepers"
   ]
  },
  {
   "cell_type": "code",
   "execution_count": null,
   "metadata": {
    "id": "-SVplaofEc-H"
   },
   "outputs": [],
   "source": [
    "from sklearn import svm\n",
    "train , test = train_test_split(copygoalkeepers_dataframe, test_size = 0.2)\n",
    "\n",
    "x_train = train.drop('Values', axis=1)\n",
    "y_train = train['Values']\n",
    "\n",
    "\n",
    "x_test = test.drop('Values', axis = 1)\n",
    "y_test = test['Values']\n",
    "\n",
    "regrLRSVRGoalie = svm.LinearSVR()\n",
    "regrLRSVRGoalie.fit(x_train, y_train)\n",
    "\n",
    "Y_predregrLRSVRGoalie = regrLRSVRGoalie.predict(x_test)"
   ]
  },
  {
   "cell_type": "code",
   "execution_count": null,
   "metadata": {
    "id": "8FpOZSlWrVtC"
   },
   "outputs": [],
   "source": [
    "importance = regrLRSVRGoalie.coef_"
   ]
  },
  {
   "cell_type": "code",
   "execution_count": null,
   "metadata": {
    "colab": {
     "base_uri": "https://localhost:8080/"
    },
    "id": "4cA15E8BNwbj",
    "outputId": "82edd136-bce4-44ef-e4a2-50b15adc803a"
   },
   "outputs": [],
   "source": [
    "EvaluativeMethods(y_test,Y_predregrLRSVRGoalie)"
   ]
  },
  {
   "cell_type": "code",
   "execution_count": null,
   "metadata": {
    "colab": {
     "base_uri": "https://localhost:8080/",
     "height": 611
    },
    "id": "p5qzeURABEAZ",
    "outputId": "080b0a34-10b0-4de0-d9c4-f3efecfe8b7b"
   },
   "outputs": [],
   "source": [
    "explainer = shap.LinearExplainer(regrLRSVRGoalie, x_test)\n",
    "shap.initjs()\n",
    "shap_values = explainer.shap_values(x_test)\n",
    "shap.summary_plot(shap_values, x_test)"
   ]
  },
  {
   "cell_type": "code",
   "execution_count": null,
   "metadata": {
    "colab": {
     "base_uri": "https://localhost:8080/",
     "height": 513
    },
    "id": "rfigo4E4_Mi7",
    "outputId": "e05a29f2-a517-4629-9f1f-81d33b55a4da"
   },
   "outputs": [],
   "source": [
    "plotFeatureImportanceAsGraph(regrLRSVRGoalie.feature_names_in_, importance, \"Goalkeeper Linear SVR model\")"
   ]
  }
 ],
 "metadata": {
  "accelerator": "TPU",
  "colab": {
   "collapsed_sections": [],
   "machine_shape": "hm",
   "name": "transfermarkt data scraped.ipynb",
   "provenance": []
  },
  "kernelspec": {
   "display_name": "Python 3",
   "name": "python3"
  },
  "language_info": {
   "codemirror_mode": {
    "name": "ipython",
    "version": 3
   },
   "file_extension": ".py",
   "mimetype": "text/x-python",
   "name": "python",
   "nbconvert_exporter": "python",
   "pygments_lexer": "ipython3",
   "version": "3.9.7"
  }
 },
 "nbformat": 4,
 "nbformat_minor": 0
}
